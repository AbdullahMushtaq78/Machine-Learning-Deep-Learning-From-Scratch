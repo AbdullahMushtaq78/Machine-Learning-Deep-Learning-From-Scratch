{
 "cells": [
  {
   "cell_type": "code",
   "execution_count": null,
   "metadata": {},
   "outputs": [],
   "source": [
    "import pandas as pd\n",
    "import numpy as np\n",
    "# Reading the csv file to get the data.\n",
    "df = pd.read_csv(\"tennis.csv\")\n",
    "df.head()\n"
   ]
  },
  {
   "cell_type": "code",
   "execution_count": 2,
   "metadata": {},
   "outputs": [],
   "source": [
    "#This function can be used to get the number of occurances for each category/class/label_value\n",
    "# colInd is the index of the column from which the labels are extracted.\n",
    "# values is name of the class/label_value/category\n",
    "def GetLabelCount(colInd, value):\n",
    "    labels = df.iloc[:,colInd]\n",
    "    classes = labels.value_counts()\n",
    "    return classes[value]\n",
    "\n",
    "\n",
    "#X is the input for this model. This can changed depending on the input of user.\n",
    "X = [\"rainy\",\"cool\",\"normal\",True]\n",
    "#True Labels is the column of all the labels\n",
    "TrueLabels = df.iloc[:, -1]\n",
    "#TotalSize is the size of True Labels\n",
    "TotalSize = df.iloc[:,-1].size\n",
    "\n",
    "\n",
    "\n",
    "# This function will calculate the number of occurances of value from index(column) passed as colInd.\n",
    "# The status is the class for which we are currently calculating the probability.\n",
    "def GetProbabilities(colInd, value, status):\n",
    "    val = df.loc[df.iloc[:,-1] == TrueLabels.value_counts().keys()[status]].iloc[:,colInd].value_counts()[value]\n",
    "    return val\n",
    "\n",
    "\n",
    "# In this function, Probability of each class in being calculated with the help of GetLabelCount and GetProbabilities functions.\n",
    "# In this function, probability is calculated against each class with the given input (X defined above).\n",
    "def GetProbabilitiesForEachClass(Class, classIndex):\n",
    "    ClassProb = GetLabelCount(-1,Class)\n",
    "    InputValIndex = 0\n",
    "    prob = 1\n",
    "    for inputVal in X:\n",
    "        val = GetProbabilities(InputValIndex, inputVal, classIndex)\n",
    "        prob *= val/ClassProb # Multiplying all of the probabilities\n",
    "        InputValIndex+=1\n",
    "    Final_class_prob = prob * (ClassProb / TotalSize) # Mutliplying the probability of Each Class being present in lablels(output).\n",
    "    print(\"Probability of\",Class, \": \", Final_class_prob)\n",
    "    return Final_class_prob"
   ]
  },
  {
   "cell_type": "code",
   "execution_count": null,
   "metadata": {},
   "outputs": [],
   "source": [
    "# Calling the function above to calculate the probability for each class and saving these in Final_Probabilities list.\n",
    "Final_Probabilities= []\n",
    "unique_Classes = df.iloc[:,-1].value_counts().keys()\n",
    "classIndex = 0\n",
    "print(\"Probability of Each class:\")\n",
    "for Class in unique_Classes:\n",
    "    Final_Probabilities.append(GetProbabilitiesForEachClass(Class, classIndex))\n",
    "    classIndex+=1\n",
    "Max_Val_ind = np.argmax(Final_Probabilities)\n",
    "print(\"\\n\\nClass \\\"\",unique_Classes[Max_Val_ind], \"\\\" has the highest probability of\", Final_Probabilities[Max_Val_ind])\n",
    "\n"
   ]
  }
 ],
 "metadata": {
  "kernelspec": {
   "display_name": "Python 3.9.7 ('base')",
   "language": "python",
   "name": "python3"
  },
  "language_info": {
   "codemirror_mode": {
    "name": "ipython",
    "version": 3
   },
   "file_extension": ".py",
   "mimetype": "text/x-python",
   "name": "python",
   "nbconvert_exporter": "python",
   "pygments_lexer": "ipython3",
   "version": "3.9.7"
  },
  "orig_nbformat": 4,
  "vscode": {
   "interpreter": {
    "hash": "9c1d5a056f04d97314a9f946bc8c5185004572d3d68312220c0ba298420421f7"
   }
  }
 },
 "nbformat": 4,
 "nbformat_minor": 2
}
