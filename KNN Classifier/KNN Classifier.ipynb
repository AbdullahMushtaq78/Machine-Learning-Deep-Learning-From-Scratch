{
 "cells": [
  {
   "attachments": {},
   "cell_type": "markdown",
   "metadata": {},
   "source": [
    "Libraries and Imports"
   ]
  },
  {
   "cell_type": "code",
   "execution_count": 12,
   "metadata": {},
   "outputs": [],
   "source": [
    "import pandas as pd\n",
    "import numpy as np\n",
    "from collections import Counter\n",
    "from tensorflow import keras\n",
    "from sklearn import datasets\n",
    "from sklearn.model_selection import train_test_split\n"
   ]
  },
  {
   "attachments": {},
   "cell_type": "markdown",
   "metadata": {},
   "source": [
    "Helping Functions for KNN"
   ]
  },
  {
   "cell_type": "code",
   "execution_count": 13,
   "metadata": {},
   "outputs": [],
   "source": [
    "def accuracy(y_test, y_pred):\n",
    "    return np.sum(y_pred == y_test) / len(y_test)"
   ]
  },
  {
   "attachments": {},
   "cell_type": "markdown",
   "metadata": {},
   "source": [
    "*KNN Classifier*"
   ]
  },
  {
   "cell_type": "code",
   "execution_count": 14,
   "metadata": {},
   "outputs": [],
   "source": [
    "class KNN:\n",
    "    def __init__(self,k = 3, Distance=\"L1\"):\n",
    "        self.k = k\n",
    "        self.distance = Distance\n",
    "    def fit(self,X, y):\n",
    "        self.X_train = X\n",
    "        self.Y_train = y\n",
    "    def L1Dis(self, x1, x2):\n",
    "        distance = np.sum(np.abs(x1-x2))\n",
    "        return distance\n",
    "    def L2Dis(self, x1, x2):\n",
    "        distance = np.sqrt(np.sum((x1-x2)**2))\n",
    "        return distance\n",
    "    def AngularDis(self, x1, x2):\n",
    "        A_mean = np.mean(x1)\n",
    "        B_mean = np.mean(x2)\n",
    "\n",
    "        Std_A= x1 - A_mean #Part of Numerator\n",
    "        Std_B = x2 - B_mean #Part of Numerator\n",
    "        \n",
    "        A_Down = np.sqrt(np.sum((Std_A)**2)) # Denominator\n",
    "        B_Down = np.sqrt(np.sum((Std_B)**2)) #Denominator\n",
    "        \n",
    "        AngDis = (np.sum(Std_A* Std_B)) / (A_Down *B_Down)\n",
    "        return AngDis\n",
    "    def predict(self, X):\n",
    "        predictions = [self._predict(x) for x in X]\n",
    "        return predictions\n",
    "    def _predict(self,x):\n",
    "        #compute the distances\n",
    "        if self.distance == \"L1\":\n",
    "            distances = [self.L1Dis(x, x_train) for x_train in self.X_train]\n",
    "            k_indices = np.argsort(distances)[:self.k]\n",
    "        elif self.distance == \"L2\":\n",
    "            distances = [self.L2Dis(x, x_train) for x_train in self.X_train]\n",
    "            k_indices = np.argsort(distances)[:self.k]\n",
    "        elif self.distance == \"Angular\":\n",
    "            distances = [self.AngularDis(x, x_train) for x_train in self.X_train]\n",
    "            k_indices = np.argsort(distances)[-self.k:]\n",
    "            \n",
    "        #get The closest k\n",
    "        k_nearest = [self.Y_train[i] for i in k_indices]\n",
    "        # majority vote\n",
    "        most_common = Counter(k_nearest).most_common()\n",
    "        return most_common[0][0]\n"
   ]
  },
  {
   "attachments": {},
   "cell_type": "markdown",
   "metadata": {},
   "source": [
    "Driver Code for Loading Data and Running Classifier."
   ]
  },
  {
   "cell_type": "code",
   "execution_count": null,
   "metadata": {},
   "outputs": [],
   "source": [
    "iris = datasets.load_iris()\n",
    "X, y = iris.data, iris.target\n",
    "X_train, X_test, y_train, y_test = train_test_split(X,y, test_size = 0.2, random_state = 1234)\n",
    "\n",
    "clf = KNN(k = 3, Distance=\"L2\")\n",
    "clf.fit(X_train, y_train)\n",
    "predictions = clf.predict(X_test)\n",
    "print(\"Labels: \",  y_test)\n",
    "print(\"Predictions: \", predictions)\n",
    "print(\"Accuracy:\", accuracy(y_test,predictions)*100)\n"
   ]
  }
 ],
 "metadata": {
  "kernelspec": {
   "display_name": "base",
   "language": "python",
   "name": "python3"
  },
  "language_info": {
   "codemirror_mode": {
    "name": "ipython",
    "version": 3
   },
   "file_extension": ".py",
   "mimetype": "text/x-python",
   "name": "python",
   "nbconvert_exporter": "python",
   "pygments_lexer": "ipython3",
   "version": "3.9.7"
  },
  "orig_nbformat": 4,
  "vscode": {
   "interpreter": {
    "hash": "9c1d5a056f04d97314a9f946bc8c5185004572d3d68312220c0ba298420421f7"
   }
  }
 },
 "nbformat": 4,
 "nbformat_minor": 2
}
